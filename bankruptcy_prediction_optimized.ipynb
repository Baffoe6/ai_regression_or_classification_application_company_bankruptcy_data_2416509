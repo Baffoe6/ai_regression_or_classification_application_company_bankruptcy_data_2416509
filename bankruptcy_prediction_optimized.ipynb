{
 "cells": [
  {
   "cell_type": "markdown",
   "id": "42b281a0",
   "metadata": {},
   "source": [
    "# Optimized Company Bankruptcy Prediction\n",
    "\n",
    "This notebook demonstrates the optimized bankruptcy prediction pipeline with:\n",
    "- Modular, production-ready code structure\n",
    "- Advanced feature selection and hyperparameter optimization\n",
    "- Ensemble methods and model optimization\n",
    "- Comprehensive evaluation and visualization\n",
    "- Configuration management and logging\n",
    "\n",
    "## Key Improvements:\n",
    "1. **Code Structure**: Separated concerns into modules (data, models, visualization, etc.)\n",
    "2. **Performance**: Added hyperparameter tuning, feature selection, and ensemble methods\n",
    "3. **Quality**: Proper error handling, logging, and configuration management\n",
    "4. **Production Ready**: API endpoints, model persistence, and containerization support"
   ]
  },
  {
   "cell_type": "code",
   "execution_count": null,
   "id": "a098dc22",
   "metadata": {},
   "outputs": [],
   "source": [
    "# Import the optimized modules\n",
    "import sys\n",
    "import os\n",
    "\n",
    "# Add src directory to path\n",
    "sys.path.append('src')\n",
    "\n",
    "from src.config import Config, get_default_config\n",
    "from src.pipeline import BankruptcyPredictor\n",
    "from src.optimization import ModelOptimizer, create_advanced_models\n",
    "from src.utils import setup_logging\n",
    "\n",
    "import warnings\n",
    "warnings.filterwarnings('ignore')"
   ]
  },
  {
   "cell_type": "markdown",
   "id": "25630eaa",
   "metadata": {},
   "source": [
    "## 1. Configuration Setup\n",
    "\n",
    "The optimized version uses centralized configuration management."
   ]
  },
  {
   "cell_type": "code",
   "execution_count": null,
   "id": "2447cc46",
   "metadata": {},
   "outputs": [],
   "source": [
    "# Load configuration\n",
    "config = get_default_config()\n",
    "\n",
    "# Customize configuration if needed\n",
    "config.feature_selection = True\n",
    "config.max_features = 50  # Select top 50 features\n",
    "config.save_models = True\n",
    "config.save_plots = True\n",
    "\n",
    "print(\"Configuration:\")\n",
    "for key, value in config.__dict__.items():\n",
    "    print(f\"  {key}: {value}\")"
   ]
  },
  {
   "cell_type": "markdown",
   "id": "d8d2aad3",
   "metadata": {},
   "source": [
    "## 2. Basic Pipeline Execution\n",
    "\n",
    "Run the complete optimized pipeline with a single function call."
   ]
  },
  {
   "cell_type": "code",
   "execution_count": null,
   "id": "d52e13ad",
   "metadata": {},
   "outputs": [],
   "source": [
    "# Initialize the predictor\n",
    "predictor = BankruptcyPredictor(config)\n",
    "\n",
    "# Run the full pipeline\n",
    "print(\"Running optimized bankruptcy prediction pipeline...\\n\")\n",
    "report = predictor.run_full_pipeline()\n",
    "\n",
    "print(\"\\n\" + \"=\"*60)\n",
    "print(\"PIPELINE COMPLETED SUCCESSFULLY\")\n",
    "print(\"=\"*60)\n",
    "print(report)"
   ]
  },
  {
   "cell_type": "markdown",
   "id": "98cb836f",
   "metadata": {},
   "source": [
    "## 3. Advanced Model Optimization\n",
    "\n",
    "Apply advanced optimization techniques including hyperparameter tuning and feature selection."
   ]
  },
  {
   "cell_type": "code",
   "execution_count": null,
   "id": "a43d2b96",
   "metadata": {},
   "outputs": [],
   "source": [
    "# Initialize model optimizer\n",
    "optimizer = ModelOptimizer(config)\n",
    "\n",
    "print(\"Starting advanced model optimization...\")\n",
    "\n",
    "# Optimize individual models\n",
    "model_types = ['logistic_regression', 'random_forest']\n",
    "optimized_models = []\n",
    "\n",
    "for model_type in model_types:\n",
    "    print(f\"\\nOptimizing {model_type}...\")\n",
    "    \n",
    "    result = optimizer.optimize_single_model(\n",
    "        model_type=model_type,\n",
    "        X_train=predictor.X_train,\n",
    "        y_train=predictor.y_train,\n",
    "        X_test=predictor.X_test,\n",
    "        optimize_features=True,\n",
    "        optimize_hyperparams=True\n",
    "    )\n",
    "    \n",
    "    optimized_models.append(result)\n",
    "    \n",
    "    print(f\"Best parameters for {model_type}: {result.get('best_params', 'N/A')}\")\n",
    "    print(f\"Best CV score: {result.get('best_cv_score', 'N/A'):.4f}\")\n",
    "    print(f\"Selected features: {result.get('n_selected_features', 'N/A')}\")"
   ]
  },
  {
   "cell_type": "markdown",
   "id": "1b07012f",
   "metadata": {},
   "source": [
    "## 4. Ensemble Methods\n",
    "\n",
    "Create ensemble models from the optimized individual models."
   ]
  },
  {
   "cell_type": "code",
   "execution_count": null,
   "id": "efced31c",
   "metadata": {},
   "outputs": [],
   "source": [
    "print(\"Creating ensemble models...\")\n",
    "\n",
    "# Create ensemble from optimized models\n",
    "ensemble_results = optimizer.create_optimized_ensemble(\n",
    "    optimized_models=optimized_models,\n",
    "    X_train=predictor.X_train,\n",
    "    y_train=predictor.y_train\n",
    ")\n",
    "\n",
    "print(\"Ensemble models created:\")\n",
    "for key in ensemble_results.keys():\n",
    "    if 'ensemble' in key:\n",
    "        print(f\"  - {key}\")\n",
    "\n",
    "# Evaluate ensemble models\n",
    "from sklearn.metrics import accuracy_score, f1_score, roc_auc_score\n",
    "\n",
    "print(\"\\nEvaluating ensemble models:\")\n",
    "\n",
    "for ensemble_name, ensemble_model in ensemble_results.items():\n",
    "    if 'ensemble' in ensemble_name:\n",
    "        # Make predictions\n",
    "        y_pred = ensemble_model.predict(predictor.X_test)\n",
    "        y_pred_proba = ensemble_model.predict_proba(predictor.X_test)[:, 1]\n",
    "        \n",
    "        # Calculate metrics\n",
    "        accuracy = accuracy_score(predictor.y_test, y_pred)\n",
    "        f1 = f1_score(predictor.y_test, y_pred)\n",
    "        roc_auc = roc_auc_score(predictor.y_test, y_pred_proba)\n",
    "        \n",
    "        print(f\"\\n{ensemble_name.replace('_', ' ').title()}:\")\n",
    "        print(f\"  Accuracy: {accuracy:.4f}\")\n",
    "        print(f\"  F1-Score: {f1:.4f}\")\n",
    "        print(f\"  ROC-AUC:  {roc_auc:.4f}\")"
   ]
  },
  {
   "cell_type": "markdown",
   "id": "9114f4fa",
   "metadata": {},
   "source": [
    "## 5. Advanced Models (XGBoost)\n",
    "\n",
    "Add state-of-the-art models like XGBoost to the comparison."
   ]
  },
  {
   "cell_type": "code",
   "execution_count": null,
   "id": "c3b0d8cd",
   "metadata": {},
   "outputs": [],
   "source": [
    "print(\"Adding advanced models...\")\n",
    "\n",
    "try:\n",
    "    # Create advanced models\n",
    "    advanced_models = create_advanced_models(config)\n",
    "    \n",
    "    if 'xgboost' in advanced_models:\n",
    "        print(\"Training XGBoost model...\")\n",
    "        \n",
    "        xgb_model = advanced_models['xgboost']\n",
    "        xgb_model.fit(predictor.X_train, predictor.y_train)\n",
    "        \n",
    "        # Evaluate XGBoost\n",
    "        y_pred_xgb = xgb_model.predict(predictor.X_test)\n",
    "        y_pred_proba_xgb = xgb_model.predict_proba(predictor.X_test)[:, 1]\n",
    "        \n",
    "        accuracy_xgb = accuracy_score(predictor.y_test, y_pred_xgb)\n",
    "        f1_xgb = f1_score(predictor.y_test, y_pred_xgb)\n",
    "        roc_auc_xgb = roc_auc_score(predictor.y_test, y_pred_proba_xgb)\n",
    "        \n",
    "        print(f\"\\nXGBoost Results:\")\n",
    "        print(f\"  Accuracy: {accuracy_xgb:.4f}\")\n",
    "        print(f\"  F1-Score: {f1_xgb:.4f}\")\n",
    "        print(f\"  ROC-AUC:  {roc_auc_xgb:.4f}\")\n",
    "        \n",
    "except ImportError:\n",
    "    print(\"XGBoost not available. Install with: pip install xgboost\")\n",
    "except Exception as e:\n",
    "    print(f\"Error with advanced models: {str(e)}\")"
   ]
  },
  {
   "cell_type": "markdown",
   "id": "641bf30d",
   "metadata": {},
   "source": [
    "## 6. Model Comparison and Best Model Selection\n",
    "\n",
    "Compare all models and identify the best performer."
   ]
  },
  {
   "cell_type": "code",
   "execution_count": null,
   "id": "178910c3",
   "metadata": {},
   "outputs": [],
   "source": [
    "# Get the best model from the basic pipeline\n",
    "best_model_name, best_model_result = predictor.get_best_model('f1_score')\n",
    "\n",
    "print(\"Model Performance Summary:\")\n",
    "print(\"=\" * 50)\n",
    "\n",
    "# Display all results from the basic pipeline\n",
    "for result in predictor.results:\n",
    "    print(f\"\\n{result['model_name']}:\")\n",
    "    print(f\"  Accuracy:  {result.get('accuracy', 0):.4f}\")\n",
    "    print(f\"  Precision: {result.get('precision', 0):.4f}\")\n",
    "    print(f\"  Recall:    {result.get('recall', 0):.4f}\")\n",
    "    print(f\"  F1-Score:  {result.get('f1_score', 0):.4f}\")\n",
    "    print(f\"  ROC-AUC:   {result.get('roc_auc', 0):.4f}\")\n",
    "\n",
    "print(f\"\\n{'='*50}\")\n",
    "print(f\"BEST MODEL: {best_model_name}\")\n",
    "print(f\"F1-Score: {best_model_result['f1_score']:.4f}\")\n",
    "print(f\"{'='*50}\")"
   ]
  },
  {
   "cell_type": "markdown",
   "id": "7549d623",
   "metadata": {},
   "source": [
    "## 7. Feature Importance Analysis\n",
    "\n",
    "Analyze which features are most important for bankruptcy prediction."
   ]
  },
  {
   "cell_type": "code",
   "execution_count": null,
   "id": "6a69a3ca",
   "metadata": {},
   "outputs": [],
   "source": [
    "print(\"Performing feature importance analysis...\")\n",
    "\n",
    "# Analyze feature importance for Random Forest models\n",
    "predictor.analyze_feature_importance()\n",
    "\n",
    "# If we have optimization results, show selected features\n",
    "for i, result in enumerate(optimized_models):\n",
    "    if 'selected_features' in result:\n",
    "        print(f\"\\nOptimized Model {i+1} - Selected Feature Indices:\")\n",
    "        print(f\"  Total features selected: {result['n_selected_features']}\")\n",
    "        print(f\"  Feature indices: {result['selected_features'][:10]}...\")  # Show first 10"
   ]
  },
  {
   "cell_type": "markdown",
   "id": "5278336c",
   "metadata": {},
   "source": [
    "## 8. Model Persistence and API Setup\n",
    "\n",
    "Save models and prepare for production deployment."
   ]
  },
  {
   "cell_type": "code",
   "execution_count": null,
   "id": "046091d7",
   "metadata": {},
   "outputs": [],
   "source": [
    "print(\"Saving optimized models and results...\")\n",
    "\n",
    "# Save optimization results\n",
    "if optimized_models:\n",
    "    optimization_path = os.path.join(config.output_dir, \"optimization_results.joblib\")\n",
    "    optimizer.save_optimization_results({\n",
    "        'optimized_models': optimized_models,\n",
    "        'ensemble_results': ensemble_results if 'ensemble_results' in locals() else None,\n",
    "        'config': config.__dict__\n",
    "    }, optimization_path)\n",
    "\n",
    "# Display file structure\n",
    "print(\"\\nGenerated files:\")\n",
    "if os.path.exists(config.output_dir):\n",
    "    for root, dirs, files in os.walk(config.output_dir):\n",
    "        level = root.replace(config.output_dir, '').count(os.sep)\n",
    "        indent = ' ' * 2 * level\n",
    "        print(f\"{indent}{os.path.basename(root)}/\")\n",
    "        subindent = ' ' * 2 * (level + 1)\n",
    "        for file in files[:5]:  # Show first 5 files per directory\n",
    "            print(f\"{subindent}{file}\")\n",
    "        if len(files) > 5:\n",
    "            print(f\"{subindent}... and {len(files)-5} more files\")\n",
    "\n",
    "print(\"\\nOptimization completed successfully!\")\n",
    "print(\"\\nTo start the API server, run:\")\n",
    "print(\"  python -m uvicorn src.api:app --reload --host 0.0.0.0 --port 8000\")\n",
    "print(\"\\nAPI will be available at: http://localhost:8000\")\n",
    "print(\"API documentation at: http://localhost:8000/docs\")"
   ]
  },
  {
   "cell_type": "markdown",
   "id": "0072a11a",
   "metadata": {},
   "source": [
    "## 9. Performance Summary\n",
    "\n",
    "Summary of all optimizations and improvements made."
   ]
  },
  {
   "cell_type": "code",
   "execution_count": null,
   "id": "d604f58d",
   "metadata": {},
   "outputs": [],
   "source": [
    "print(\"OPTIMIZATION SUMMARY\")\n",
    "print(\"=\" * 60)\n",
    "print(\"\\n✅ Completed Optimizations:\")\n",
    "print(\"   • Modular code structure with separated concerns\")\n",
    "print(\"   • Configuration management and logging\")\n",
    "print(\"   • Advanced feature selection (RFE, Model-based)\")\n",
    "print(\"   • Hyperparameter optimization (RandomizedSearchCV)\")\n",
    "print(\"   • Ensemble methods (Voting, Bagging)\")\n",
    "print(\"   • Advanced models (XGBoost support)\")\n",
    "print(\"   • Production-ready API with FastAPI\")\n",
    "print(\"   • Model persistence and loading\")\n",
    "print(\"   • Comprehensive visualization and reporting\")\n",
    "print(\"   • Error handling and logging\")\n",
    "print(\"   • Type hints and documentation\")\n",
    "\n",
    "print(\"\\n📊 Performance Improvements:\")\n",
    "if predictor.results:\n",
    "    best_f1 = max(result.get('f1_score', 0) for result in predictor.results)\n",
    "    best_accuracy = max(result.get('accuracy', 0) for result in predictor.results)\n",
    "    best_auc = max(result.get('roc_auc', 0) for result in predictor.results)\n",
    "    \n",
    "    print(f\"   • Best F1-Score: {best_f1:.4f}\")\n",
    "    print(f\"   • Best Accuracy: {best_accuracy:.4f}\")\n",
    "    print(f\"   • Best ROC-AUC: {best_auc:.4f}\")\n",
    "\n",
    "print(\"\\n🚀 Production Features:\")\n",
    "print(\"   • REST API endpoints for predictions\")\n",
    "print(\"   • Batch prediction support\")\n",
    "print(\"   • Model management and reloading\")\n",
    "print(\"   • Health checks and monitoring\")\n",
    "print(\"   • CORS support for web integration\")\n",
    "print(\"   • Pydantic models for data validation\")\n",
    "print(\"   • Comprehensive error handling\")\n",
    "\n",
    "print(\"\\n🔧 Next Steps for Further Optimization:\")\n",
    "print(\"   • Implement SHAP for model interpretability\")\n",
    "print(\"   • Add automated model retraining pipeline\")\n",
    "print(\"   • Implement A/B testing for model comparison\")\n",
    "print(\"   • Add model monitoring and drift detection\")\n",
    "print(\"   • Containerize with Docker\")\n",
    "print(\"   • Add unit tests and integration tests\")\n",
    "print(\"   • Implement caching for improved performance\")\n",
    "print(\"   • Add data validation and quality checks\")\n",
    "\n",
    "print(\"\\n\" + \"=\" * 60)\n",
    "print(\"PROJECT OPTIMIZATION COMPLETED SUCCESSFULLY! 🎉\")\n",
    "print(\"=\" * 60)"
   ]
  }
 ],
 "metadata": {
  "language_info": {
   "name": "python"
  }
 },
 "nbformat": 4,
 "nbformat_minor": 5
}
